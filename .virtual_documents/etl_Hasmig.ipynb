import pandas as pd
import matplotlib.pyplot as plt


df = pd.read_csv("../../GroupProjects/21zpallagi.csv")
df.head()


import warnings
warnings.filterwarnings('ignore')


files = range(12,22)

complete_df = pd.DataFrame()

for file in files:
    df = pd.read_csv(f"../../GroupProjects/{file}zpallagi.csv")
    df1 = df[df.zipcode==0]
    df1['year'] = f'20{file}'
    complete_df = pd.concat([complete_df,df1]) 
    print(f'{file}zpallagi.csv: {df1.shape}')
complete_df.set_index('year', inplace=True)
complete_df[:5]


# Dictionary mapping original column names to shorter names
column_names = {
    'STATE': 'State',
    'zipcode': 'Zip',
    'N1': 'Returns',
    'mars1': 'Single',
    'MARS2': 'Joint',
    'MARS4': 'Hd_of_Hshld',
    'A00100': 'AGI_Amt',
    'N02910': 'Std_Ded_Charity_Returns',
    'A02910': 'Std_Ded_Charity_Amt',
    'N04450': 'Std_Ded_Returns',
    'A04450': 'Std_Ded_Amt',
    'N04470': 'Itemized_Ded_Returns',
    'A04470': 'Itemized_Ded_Amt',
    'N19700': 'Charitable_Returns',
    'A19700': 'Charitable_Amt'
}

# Rename columns
renaming_df = complete_df.rename(columns=column_names)


renaming_df.head(10)


renaming_df['new_agi_stub'] = renaming_df.AGI_STUB.fillna(0) + renaming_df.agi_stub.fillna(0)


renaming_df[['AGI_STUB','agi_stub','new_agi_stub']]


temp_columns_to_keep = [
    'State', 'Zip', 'new_agi_stub', 'Returns', 'Single', 'Joint', 'Hd_of_Hshld', 'AGI_Amt',
    'Std_Ded_Charity_Returns', 'Std_Ded_Charity_Amt', 'Std_Ded_Returns', 'Std_Ded_Amt',
    'Itemized_Ded_Returns', 'Itemized_Ded_Amt', 'Charitable_Returns', 'Charitable_Amt'
]


temp_df = renaming_df[temp_columns_to_keep]
temp_df.head()


columns_to_keep = [
    'State', 'new_agi_stub', 'Returns', 'Single', 'Joint', 'Hd_of_Hshld', 'AGI_Amt',
    'Std_Ded_Charity_Returns', 'Std_Ded_Charity_Amt', 'Std_Ded_Returns', 'Std_Ded_Amt',
    'Itemized_Ded_Returns', 'Itemized_Ded_Amt', 'Charitable_Returns', 'Charitable_Amt'
]


filtered_df = renaming_df[columns_to_keep]
# print(filtered_df)
filtered_df[:5]


filtered_df.count()


filtered_df.to_csv("Data/combined_zpallagi.csv")


# the years where single filing return counts are not available

filtered_df[filtered_df.Single.isna()].reset_index().groupby('year').count()






filtered_df.groupby('year').Charitable_Amt.sum().plot.bar(title='Charitable Amount Per Year', figsize=[12,3]);


filtered_df[filtered_df.index=='2017'].groupby(['State']).Charitable_Amt.sum().plot.bar(figsize=[12,3],title='2017 Charitable Amount Per State');





filtered_df.groupby('new_agi_stub').Charitable_Amt.sum().plot.bar(title='Charitable Amount Per Bin', figsize=[12,3]);


filtered_df.groupby('State').Charitable_Amt.sum().plot.bar(title='Charitable Amount Per State', figsize=[16,4]);


filtered_df[filtered_df.State=='CA'].groupby('year').Charitable_Amt.sum().plot.pie(radius=2);


filtered_df[filtered_df.State=='CA'].groupby('year').Charitable_Amt.sum().\
    plot.bar(figsize=[16,4],rot=45,title='California Yearly Charitable Amount');





ca = filtered_df[filtered_df.State=='CA'][['new_agi_stub','Charitable_Amt']]
ca[:5]





ca[ca.new_agi_stub==1.0]['Charitable_Amt']


plt.plot(ca[ca.new_agi_stub==6.0]['Charitable_Amt'])


plt.plot(ca[ca.new_agi_stub==1.0]['Charitable_Amt'])
plt.plot(ca[ca.new_agi_stub==2.0]['Charitable_Amt'])
plt.plot(ca[ca.new_agi_stub==3.0]['Charitable_Amt'])
plt.plot(ca[ca.new_agi_stub==4.0]['Charitable_Amt'])
plt.plot(ca[ca.new_agi_stub==5.0]['Charitable_Amt'])


filtered_df[(filtered_df.State=='CA')&(filtered_df['new_agi_stub']==1.0)]['Charitable_Amt'].plot(label='1.0',legend=True)
filtered_df[(filtered_df.State=='CA')&(filtered_df['new_agi_stub']==2.0)]['Charitable_Amt'].plot(label='2.0',legend=True)
filtered_df[(filtered_df.State=='CA')&(filtered_df['new_agi_stub']==3.0)]['Charitable_Amt'].plot(label='3.0',legend=True)
filtered_df[(filtered_df.State=='CA')&(filtered_df['new_agi_stub']==4.0)]['Charitable_Amt'].plot(label='4.0',legend=True)
filtered_df[(filtered_df.State=='CA')&(filtered_df['new_agi_stub']==5.0)]['Charitable_Amt'].plot(label='5.0',legend=True)
filtered_df[(filtered_df.State=='CA')&(filtered_df['new_agi_stub']==6.0)]['Charitable_Amt'].plot(label='6.0',legend=True)



filtered_df[filtered_df.State=='CA'][['State', 'new_agi_stub', 'Charitable_Amt']]








# comp_df = pd.concat(complete_data)
# print(comp_df.shape)
# comp_df.head()


# for col in comp_df.columns:
#     print(col)


# df1[['Std_Ded_Charity_Returns', 'Std_Ded_Charity_Amt',
#       'Charitable_Returns', 'Charitable_Amt']].plot.bar()


# df1[['Std_Ded_Charity_Amt','Charitable_Amt']].plot.bar()


# df_count = df1[['State', 'AGI_Range2', 'Returns', 'Single', 'Joint', 'Hd_of_Hshld',
#        'Cap_Gain_Returns', 'Std_Ded_Charity_Returns', 
#        'Itemized_Ded_Returns', 'Total_Taxes_Returns',
#        'Charitable_Returns']]

# df_count.head()



# df_amt=df1[['State', 'AGI_Range2', 'AGI_Amt', 'Total_Income', 'Cap_Gain_Amt',
#        'Std_Ded_Charity_Amt', 'Itemized_Ded_Amt', 'Total_Taxes_Amt', 'Charitable_Amt']]
# df_amt.head()



# df1['$$ avg_charitable_amt'] = (df_amt['Charitable_Amt']/df_count['Charitable_Returns']) 

# df1.head()









